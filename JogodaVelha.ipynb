{
  "nbformat": 4,
  "nbformat_minor": 0,
  "metadata": {
    "colab": {
      "provenance": []
    },
    "kernelspec": {
      "name": "python3",
      "display_name": "Python 3"
    },
    "language_info": {
      "name": "python"
    }
  },
  "cells": [
    {
      "cell_type": "code",
      "execution_count": null,
      "metadata": {
        "id": "pPABqfZwrFdE"
      },
      "outputs": [],
      "source": [
        "def imprimir_tabuleiro(tabuleiro):\n",
        "    for linha in tabuleiro:\n",
        "        print(\" | \".join(linha))\n",
        "        print(\"-\" * 9)\n",
        "\n",
        "def verificar_vitoria(tabuleiro, jogador):\n",
        "    # Verifica vitória nas linhas, colunas e diagonais\n",
        "    for i in range(3):\n",
        "        if all(tabuleiro[i][j] == jogador for j in range(3)) or all(tabuleiro[j][i] == jogador for j in range(3)):\n",
        "            return True\n",
        "    if all(tabuleiro[i][i] == jogador for i in range(3)) or all(tabuleiro[i][2 - i] == jogador for i in range(3)):\n",
        "        return True\n",
        "    return False\n",
        "\n",
        "def jogar_jogo_da_velha():\n",
        "    tabuleiro = [[\" \" for _ in range(3)] for _ in range(3)]\n",
        "    jogadores = [\"X\", \"O\"]\n",
        "    jogador_atual = 0\n",
        "\n",
        "    while True:\n",
        "        imprimir_tabuleiro(tabuleiro)\n",
        "        jogador = jogadores[jogador_atual]\n",
        "        print(f\"Vez do Jogador {jogador}\")\n",
        "\n",
        "        linha = int(input(\"Digite a linha (0,  1, 2): \"))\n",
        "        coluna = int(input(\"Digite a coluna (0, 1, 2): \"))\n",
        "\n",
        "        if tabuleiro[linha][coluna] == \" \":\n",
        "            tabuleiro[linha][coluna] = jogador\n",
        "            if verificar_vitoria(tabuleiro, jogador):\n",
        "                imprimir_tabuleiro(tabuleiro)\n",
        "                print(f\"Jogador {jogador} venceu!\")\n",
        "                break\n",
        "            elif all(tabuleiro[i][j] != \" \" for i in range(3) for j in range(3)):\n",
        "                imprimir_tabuleiro(tabuleiro)\n",
        "                print(\"Empate!\")\n",
        "                break\n",
        "            jogador_atual = 1 - jogador_atual  # Alternar entre os jogadores\n",
        "        else:\n",
        "            print(\"Essa posição já está ocupada. Escolha outra.\")\n",
        "\n",
        "if __name__ == \"__main__\":\n",
        "    jogar_jogo_da_velha()"
      ]
    }
  ]
}